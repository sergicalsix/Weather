{
 "cells": [
  {
   "cell_type": "code",
   "execution_count": 29,
   "metadata": {},
   "outputs": [
    {
     "name": "stdout",
     "output_type": "stream",
     "text": [
      "2022年03月27日\n"
     ]
    }
   ],
   "source": [
    "import requests\n",
    "from bs4 import BeautifulSoup\n",
    "import datetime\n"
   ]
  },
  {
   "cell_type": "code",
   "execution_count": 107,
   "metadata": {},
   "outputs": [],
   "source": [
    "#天気を取得\n",
    "def get_weather(url,area_name = '東京都中央区',today = False):\n",
    "    \n",
    "    r = requests.get(url)\n",
    "    soup = BeautifulSoup(r.text, 'lxml')\n",
    "    \n",
    "    day_num = 1\n",
    "    if today:\n",
    "        day_num = 0\n",
    "        \n",
    "    weather = soup.find_all('p','weather-telop')[day_num].text\n",
    "    high_temp, low_temp = soup.find_all('dd','high-temp temp')[day_num].find('span').text,soup.find_all('dd','low-temp temp')[day_num].find('span').text\n",
    "    rain_time = ['0~6時:','6~12時:','12~18時:','18~24時:']\n",
    "    rain_prob = [ v.text for v in soup.find_all('tr','rain-probability')[day_num].find_all('td')]\n",
    "    rain_info = [ x[0]+x[1] for x in zip(rain_time,rain_prob)]\n",
    "    rain_info = ' '.join(rain_info)\n",
    "    \n",
    "    message = f'{area_name}の天気:{weather}\\n {high_temp}度,{low_temp}度,降水確率:{rain_info}'\n",
    "    \n",
    "    return  message\n",
    "    "
   ]
  },
  {
   "cell_type": "code",
   "execution_count": 108,
   "metadata": {},
   "outputs": [],
   "source": [
    "kuri = get_weather('https://tenki.jp/forecast/3/16/4410/13102/',area_name = '東京都中央区')\n",
    "yusuke = get_weather('https://tenki.jp/forecast/3/17/4610/14109/',area_name = '日吉')\n",
    "dt_tom = (datetime.datetime.now()+ datetime.timedelta(days = 1)).strftime('%m月%d日')"
   ]
  },
  {
   "cell_type": "code",
   "execution_count": 109,
   "metadata": {},
   "outputs": [],
   "source": [
    "import yaml\n",
    "with open('config.yaml') as file:\n",
    "    obj = yaml.safe_load(file)\n",
    "    TOKEN = obj['TOKEN']"
   ]
  },
  {
   "cell_type": "code",
   "execution_count": 110,
   "metadata": {},
   "outputs": [],
   "source": [
    "\n",
    "#APIのURL\n",
    "api_url = 'https://notify-api.line.me/api/notify'\n",
    "#送りたい内容\n",
    "send_contents = '\\n'+ dt_tom + '\\n'+ kuri + '\\n\\n' + yusuke\n",
    "\n",
    "TOKEN_dic = {'Authorization': 'Bearer' + ' ' + TOKEN} \n",
    "send_dic = {'message': send_contents}"
   ]
  },
  {
   "cell_type": "code",
   "execution_count": 106,
   "metadata": {},
   "outputs": [
    {
     "data": {
      "text/plain": [
       "<Response [200]>"
      ]
     },
     "execution_count": 106,
     "metadata": {},
     "output_type": "execute_result"
    }
   ],
   "source": [
    "requests.post(api_url, headers=TOKEN_dic, data=send_dic)"
   ]
  },
  {
   "cell_type": "code",
   "execution_count": null,
   "metadata": {},
   "outputs": [],
   "source": []
  }
 ],
 "metadata": {
  "kernelspec": {
   "display_name": "Python 3",
   "language": "python",
   "name": "python3"
  },
  "language_info": {
   "codemirror_mode": {
    "name": "ipython",
    "version": 3
   },
   "file_extension": ".py",
   "mimetype": "text/x-python",
   "name": "python",
   "nbconvert_exporter": "python",
   "pygments_lexer": "ipython3",
   "version": "3.7.12"
  }
 },
 "nbformat": 4,
 "nbformat_minor": 4
}
